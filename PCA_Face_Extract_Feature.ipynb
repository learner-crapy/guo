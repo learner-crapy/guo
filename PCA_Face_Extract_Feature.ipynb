{
  "nbformat": 4,
  "nbformat_minor": 0,
  "metadata": {
    "colab": {
      "name": "PCA_Face_Extract_Feature.ipynb",
      "provenance": [],
      "authorship_tag": "ABX9TyNMcDxh+5Ya1zLNelVfSd3e",
      "include_colab_link": true
    },
    "kernelspec": {
      "name": "python3",
      "display_name": "Python 3"
    },
    "language_info": {
      "name": "python"
    }
  },
  "cells": [
    {
      "cell_type": "markdown",
      "metadata": {
        "id": "view-in-github",
        "colab_type": "text"
      },
      "source": [
        "<a href=\"https://colab.research.google.com/github/learner-crapy/guo/blob/master/PCA_Face_Extract_Feature.ipynb\" target=\"_parent\"><img src=\"https://colab.research.google.com/assets/colab-badge.svg\" alt=\"Open In Colab\"/></a>"
      ]
    },
    {
      "cell_type": "markdown",
      "source": [
        "## First, we read the images"
      ],
      "metadata": {
        "id": "Kc8uL1LqYkDD"
      }
    },
    {
      "cell_type": "code",
      "execution_count": 115,
      "metadata": {
        "id": "vb6K4dLQ5vSZ",
        "colab": {
          "base_uri": "https://localhost:8080/"
        },
        "outputId": "55a15c96-654a-4cc9-cca7-950a1b5755e4"
      },
      "outputs": [
        {
          "output_type": "stream",
          "name": "stdout",
          "text": [
            "Drive already mounted at /gdrive; to attempt to forcibly remount, call drive.mount(\"/gdrive\", force_remount=True).\n"
          ]
        }
      ],
      "source": [
        "# we mount google drive for importing local images\n",
        "import os\n",
        "from google.colab import drive\n",
        "drive.mount('/gdrive')\n",
        "# chage the work directory\n",
        "os.chdir(\"/gdrive/My Drive/Home/Documents/Demo/PCA/PCA_Extract_Face_Feature\")\n",
        "# print(\"当前工作路径：\",os.getcwd())"
      ]
    },
    {
      "cell_type": "code",
      "source": [
        "# define a function to standand the matrix\n",
        "def Standardization(mat):\n",
        "    Mean = np.mean(mat)\n",
        "    Std = np.std(mat)\n",
        "    Mat = (mat - Mean) / Std\n",
        "    return Mat"
      ],
      "metadata": {
        "id": "MVRyfthBoBSJ"
      },
      "execution_count": 116,
      "outputs": []
    },
    {
      "cell_type": "markdown",
      "source": [
        "## define a class to deal with img by PCA, get tarin data and test data"
      ],
      "metadata": {
        "id": "aZA-F-LcTqa8"
      }
    },
    {
      "cell_type": "code",
      "source": [
        "import numpy as np\n",
        "import os\n",
        "from sklearn.decomposition import PCA\n",
        "import cv2\n",
        "\n",
        "# function: extract the img feature with a input of image directory\n",
        "# input: the image path of all the image, string\n",
        "# output: a list with the narray with shape of (long, width), list\n",
        "class PCA_IMG:\n",
        "    OriginalImg = []\n",
        "    Reshaped = []\n",
        "    ImgArray = []\n",
        "    ImgName = []\n",
        "    Label = []\n",
        "    Name = {'Gilbert':0, 'Janet':1, 'Luke':2}\n",
        "    pca = PCA(n_components=50)\n",
        "    # function: initial the attribute and obtain the path and name\n",
        "    # input: imgpath\n",
        "    # output: initial self.ImgName\n",
        "    def __init__(self, imgpath):\n",
        "        self.ImgName = os.listdir(imgpath)\n",
        "        for i in range(0, len(self.ImgName)):\n",
        "            self.ImgName[i] = imgpath+'/'+self.ImgName[i]\n",
        "        self.ReadImg()\n",
        "        self.GetLabel()\n",
        "        self.Reshaped_f()\n",
        "        self.Extract()\n",
        "\n",
        "    # function: read the img with gray type\n",
        "    # input: none, get the img path from self.ImgName\n",
        "    # output: initial self.OriginalImg, list\n",
        "    def ReadImg(self):\n",
        "        for i in range(0, len(self.ImgName)):\n",
        "            img = cv2.imread(self.ImgName[i], 0)\n",
        "            self.OriginalImg.append(img)\n",
        "\n",
        "    # function: reshaped the image\n",
        "    # input: none\n",
        "    # output: initial self.Reshaped\n",
        "    def Reshaped_f(self):\n",
        "        for i in range(0, len(self.OriginalImg)):\n",
        "            self.Reshaped.append(cv2.resize(self.OriginalImg[i], (150, 150)))\n",
        "\n",
        "    # function: return the class accroding to the name of the img\n",
        "    # ninput: name, string\n",
        "    # output: return the class, 0 or 1 or 2\n",
        "    def Classes(self, name):\n",
        "        return self.Name[name]\n",
        "        \n",
        "    # funcion: get the label from the train data\n",
        "    # input: none\n",
        "    # output: initial self.Label\n",
        "    def GetLabel(self):\n",
        "        for i in range(0, len(self.ImgName)):\n",
        "            name = self.ImgName[i].split('/')[-1].split('_')[0]\n",
        "            self.Label.append(self.Classes(name))\n",
        "    \n",
        "    # function: extract the feature of evey img\n",
        "    # input: none, get form self.OriginalImg\n",
        "    # output: initial self.ImgArray\n",
        "    def Extract(self):\n",
        "        for i in range(0, len(self.Reshaped)):\n",
        "            self.ImgArray.append(self.pca.fit_transform(self.Reshaped[i]))\n",
        "            # print(self.ImgArray[i].shape)\n",
        "ImgDirPath = \"/gdrive/My Drive/Home/Documents/Demo/PCA/PCA_Extract_Face_Feature/Pictures/AllPictures\"\n",
        "ImgTestDirPath = \"/gdrive/My Drive/Home/Documents/Demo/PCA/PCA_Extract_Face_Feature/Pictures/TestImg\"\n",
        "pca_img = PCA_IMG(ImgDirPath)\n",
        "pca_img_1 = PCA_IMG(ImgTestDirPath)\n",
        "print(len(pca_img_1.ImgArray))"
      ],
      "metadata": {
        "colab": {
          "base_uri": "https://localhost:8080/"
        },
        "id": "SpiW0I-4T0qq",
        "outputId": "c59bff96-eeed-4123-cef9-e54b985fc598"
      },
      "execution_count": 117,
      "outputs": [
        {
          "output_type": "stream",
          "name": "stdout",
          "text": [
            "372\n"
          ]
        }
      ]
    },
    {
      "cell_type": "code",
      "source": [
        "# import numpy as np\n",
        "# import cv2\n",
        "# %matplotlib inline\n",
        "# import matplotlib.pyplot as plt\n",
        "# from sklearn.decomposition import PCA\n",
        "\n",
        "# ImgPath = \"/gdrive/My Drive/Home/Documents/Demo/PCA/PCA_Extract_Face_Feature/Pictures/Luke/Luke_39.png\"\n",
        "# img = cv2.imread(ImgPath, 0)\n",
        "# img = Standardization(img)\n",
        "# plt.subplot(221)\n",
        "# plt.imshow(img, cmap=\"gray\")\n",
        "# print(img.shape)\n",
        "# # now we use PCA the extract feature, and check out what will happen\n",
        "# pca = PCA(n_components='mle')\n",
        "# img_pca = pca.fit_transform(img)\n",
        "# plt.subplot(222)\n",
        "# plt.imshow(img_pca, cmap=\"gray\")\n",
        "# print(img_pca.shape)\n",
        "# plt.show()"
      ],
      "metadata": {
        "id": "KQvgWuXhfs4h"
      },
      "execution_count": 118,
      "outputs": []
    },
    {
      "cell_type": "markdown",
      "source": [
        "## classify the images by SVM"
      ],
      "metadata": {
        "id": "I77lzTgwgBXT"
      }
    },
    {
      "cell_type": "code",
      "source": [
        "from sklearn.svm import SVC\n",
        "\n",
        "\n",
        "ImgDirPath = \"/gdrive/My Drive/Home/Documents/Demo/PCA/PCA_Extract_Face_Feature/Pictures/AllPictures\"\n",
        "ImgTestDirPath = \"/gdrive/My Drive/Home/Documents/Demo/PCA/PCA_Extract_Face_Feature/Pictures/TestImg\"\n",
        "pca_img = PCA_IMG(ImgDirPath)\n",
        "pca_img_1 = PCA_IMG(ImgTestDirPath)\n",
        "print(len(pca_img.ImgArray))\n",
        "train_data = np.array(pca_img.ImgArray)\n",
        "train_label = np.array(pca_img.Label).astype(np.float32)\n",
        "print(train_data.shape)\n",
        "test_data = np.array(pca_img_1.ImgArray)\n",
        "test_label = np.array(pca_img_1.Label).astype(np.float32)\n",
        "clf = SVC(decision_function_shape='ovo')\n",
        "print(train_label.shape)\n",
        "clf.fit(train_data, train_label)\n",
        "\n",
        "Acurracy = clf.score(test_data, test_label)\n",
        "print(Acurracy)\n",
        "\n"
      ],
      "metadata": {
        "id": "5KE6AXANgIYz"
      },
      "execution_count": null,
      "outputs": []
    }
  ]
}